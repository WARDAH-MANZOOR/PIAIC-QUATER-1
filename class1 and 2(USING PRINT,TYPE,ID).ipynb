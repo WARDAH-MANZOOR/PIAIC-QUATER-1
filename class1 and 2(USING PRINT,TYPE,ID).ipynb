{
 "cells": [
  {
   "cell_type": "code",
   "execution_count": 1,
   "id": "1db1a6eb",
   "metadata": {},
   "outputs": [
    {
     "name": "stdout",
     "output_type": "stream",
     "text": [
      "Hello\n"
     ]
    }
   ],
   "source": [
    "print('Hello')#printing"
   ]
  },
  {
   "cell_type": "code",
   "execution_count": 2,
   "id": "c691c424",
   "metadata": {},
   "outputs": [
    {
     "name": "stdout",
     "output_type": "stream",
     "text": [
      "WARDAH\n"
     ]
    }
   ],
   "source": [
    "print('WARDAH')"
   ]
  },
  {
   "cell_type": "code",
   "execution_count": 3,
   "id": "f8d7622d",
   "metadata": {},
   "outputs": [
    {
     "name": "stdout",
     "output_type": "stream",
     "text": [
      "7\n"
     ]
    }
   ],
   "source": [
    "print(5+2)#addition"
   ]
  },
  {
   "cell_type": "code",
   "execution_count": 4,
   "id": "6657bd91",
   "metadata": {},
   "outputs": [
    {
     "name": "stdout",
     "output_type": "stream",
     "text": [
      "10\n"
     ]
    }
   ],
   "source": [
    "print(5*2)#mltiplication"
   ]
  },
  {
   "cell_type": "code",
   "execution_count": 5,
   "id": "86a90745",
   "metadata": {},
   "outputs": [
    {
     "name": "stdout",
     "output_type": "stream",
     "text": [
      "2.5\n"
     ]
    }
   ],
   "source": [
    "print(5/2)#division"
   ]
  },
  {
   "cell_type": "code",
   "execution_count": 6,
   "id": "a94386de",
   "metadata": {},
   "outputs": [
    {
     "name": "stdout",
     "output_type": "stream",
     "text": [
      "25\n"
     ]
    }
   ],
   "source": [
    "print(5**2)#power"
   ]
  },
  {
   "cell_type": "code",
   "execution_count": 7,
   "id": "8be768ab",
   "metadata": {},
   "outputs": [
    {
     "name": "stdout",
     "output_type": "stream",
     "text": [
      "2\n"
     ]
    }
   ],
   "source": [
    "print(5//2)#floor division"
   ]
  },
  {
   "cell_type": "code",
   "execution_count": 8,
   "id": "074c0216",
   "metadata": {},
   "outputs": [
    {
     "name": "stdout",
     "output_type": "stream",
     "text": [
      "2\n"
     ]
    }
   ],
   "source": [
    "print(11%3)#remainder"
   ]
  },
  {
   "cell_type": "code",
   "execution_count": 9,
   "id": "f2f67d78",
   "metadata": {},
   "outputs": [
    {
     "name": "stdout",
     "output_type": "stream",
     "text": [
      "wardah\n",
      "PIAIC\n",
      "36\n",
      "MUHAMMAD QASIM\n",
      "9am to 12pm\n"
     ]
    }
   ],
   "source": [
    "name = \"wardah\"\n",
    "school  = \"PIAIC\"\n",
    "batch = 36\n",
    "teacher = \"MUHAMMAD QASIM\"\n",
    "timing = \"9am to 12pm\"\n",
    "print(name)\n",
    "print(school)\n",
    "print(batch)\n",
    "print(teacher)\n",
    "print(timing)"
   ]
  },
  {
   "cell_type": "code",
   "execution_count": 10,
   "id": "4915a3af",
   "metadata": {},
   "outputs": [
    {
     "data": {
      "text/plain": [
       "str"
      ]
     },
     "execution_count": 10,
     "metadata": {},
     "output_type": "execute_result"
    }
   ],
   "source": [
    "name = \"wardah\"\n",
    "type(name)"
   ]
  },
  {
   "cell_type": "code",
   "execution_count": 11,
   "id": "fa6cadca",
   "metadata": {},
   "outputs": [
    {
     "name": "stdout",
     "output_type": "stream",
     "text": [
      "<class 'str'>\n"
     ]
    }
   ],
   "source": [
    "name = \"wardah\"\n",
    "print(type(name))"
   ]
  },
  {
   "cell_type": "code",
   "execution_count": 12,
   "id": "77b58d9b",
   "metadata": {},
   "outputs": [
    {
     "data": {
      "text/plain": [
       "1377155646512"
      ]
     },
     "execution_count": 12,
     "metadata": {},
     "output_type": "execute_result"
    }
   ],
   "source": [
    "name = \"wardah\"\n",
    "id(name)"
   ]
  },
  {
   "cell_type": "code",
   "execution_count": 13,
   "id": "8f1efeb3",
   "metadata": {},
   "outputs": [
    {
     "name": "stdout",
     "output_type": "stream",
     "text": [
      "1377155646512\n"
     ]
    }
   ],
   "source": [
    "name = \"wardah\"\n",
    "print(id(name))"
   ]
  },
  {
   "cell_type": "code",
   "execution_count": 14,
   "id": "ac1e80ac",
   "metadata": {},
   "outputs": [
    {
     "data": {
      "text/plain": [
       "1377155646512"
      ]
     },
     "execution_count": 14,
     "metadata": {},
     "output_type": "execute_result"
    }
   ],
   "source": [
    "name = \"wardah\"\n",
    "type(name)\n",
    "id(name)"
   ]
  },
  {
   "cell_type": "code",
   "execution_count": 15,
   "id": "b0bb8941",
   "metadata": {},
   "outputs": [
    {
     "name": "stdout",
     "output_type": "stream",
     "text": [
      "<class 'str'>\n",
      "1377155646512\n"
     ]
    }
   ],
   "source": [
    "name = \"wardah\"\n",
    "print(type(name))\n",
    "print(id(name))"
   ]
  },
  {
   "cell_type": "code",
   "execution_count": 16,
   "id": "349a608d",
   "metadata": {},
   "outputs": [
    {
     "name": "stdout",
     "output_type": "stream",
     "text": [
      "6\n"
     ]
    }
   ],
   "source": [
    "name = \"wardah\"\n",
    "print(len(name))"
   ]
  },
  {
   "cell_type": "code",
   "execution_count": 17,
   "id": "076ed93a",
   "metadata": {},
   "outputs": [
    {
     "name": "stdout",
     "output_type": "stream",
     "text": [
      "1377155646512\n",
      "1377155646512\n"
     ]
    }
   ],
   "source": [
    "###### give same id's because same value in different variables ########\n",
    "name = \"wardah\"\n",
    "name1 = \"wardah\"\n",
    "print(id(name))\n",
    "print(id(name1))"
   ]
  },
  {
   "cell_type": "code",
   "execution_count": null,
   "id": "2fc96d8c",
   "metadata": {},
   "outputs": [],
   "source": []
  }
 ],
 "metadata": {
  "kernelspec": {
   "display_name": "Python 3 (ipykernel)",
   "language": "python",
   "name": "python3"
  },
  "language_info": {
   "codemirror_mode": {
    "name": "ipython",
    "version": 3
   },
   "file_extension": ".py",
   "mimetype": "text/x-python",
   "name": "python",
   "nbconvert_exporter": "python",
   "pygments_lexer": "ipython3",
   "version": "3.9.12"
  }
 },
 "nbformat": 4,
 "nbformat_minor": 5
}
